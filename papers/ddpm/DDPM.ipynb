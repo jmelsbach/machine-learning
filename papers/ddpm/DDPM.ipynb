{
 "cells": [
  {
   "attachments": {},
   "cell_type": "markdown",
   "metadata": {},
   "source": [
    "# Denoising Diffusion Probabilistic Models\n",
    " 📎 [Link to Paper](https://arxiv.org/abs/2006.11239)"
   ]
  },
  {
   "attachments": {},
   "cell_type": "markdown",
   "metadata": {},
   "source": [
    "## ✍️ Authors\n",
    "\n",
    "Jonathaon Ho\n",
    "Ajay Jain\n",
    "Pieter Abbeel"
   ]
  },
  {
   "attachments": {},
   "cell_type": "markdown",
   "metadata": {},
   "source": [
    "## 📝 Abstract\n",
    "We present high quality image synthesis results using diffusion probabilistic models,\n",
    "a class of latent variable models inspired by considerations from nonequilibrium\n",
    "thermodynamics. Our best results are obtained by training on a weighted variational\n",
    "bound designed according to a novel connection between diffusion probabilistic\n",
    "models and denoising score matching with Langevin dynamics, and our models nat-\n",
    "urally admit a progressive lossy decompression scheme that can be interpreted as a\n",
    "generalization of autoregressive decoding. On the unconditional CIFAR10 dataset,\n",
    "we obtain an Inception score of 9.46 and a state-of-the-art FID score of 3.17. On\n",
    "256x256 LSUN, we obtain sample quality similar to ProgressiveGAN. Our imple-\n",
    "mentation is available at https://github.com/hojonathanho/diffusion."
   ]
  },
  {
   "attachments": {},
   "cell_type": "markdown",
   "metadata": {},
   "source": [
    "## Difficulty\n",
    "⚫⚫⚫⚫⚪"
   ]
  },
  {
   "attachments": {},
   "cell_type": "markdown",
   "metadata": {},
   "source": [
    "### 📦 Imports"
   ]
  },
  {
   "cell_type": "code",
   "execution_count": 2,
   "metadata": {},
   "outputs": [],
   "source": [
    "from typing import Tuple, Optional\n",
    "import torch\n",
    "import torch.nn.functional as F\n",
    "import torch.utils.data\n",
    "from torch import nn"
   ]
  },
  {
   "attachments": {},
   "cell_type": "markdown",
   "metadata": {},
   "source": [
    "## Forward Diffusion"
   ]
  },
  {
   "attachments": {},
   "cell_type": "markdown",
   "metadata": {},
   "source": [
    "What distinguishes diffusion models from other types of latent variable models is that the approximate\n",
    "posterior $q(x_{1:T} |x_0)$, called the forward process or diffusion process, is fixed to a Markov chain that\n",
    "gradually adds Gaussian noise to the data according to a variance schedule $β_1, . . . , β_T$:\n",
    "$$\n",
    "p_\\theta\\left(\\mathbf{x}_{0: T}\\right):=p\\left(\\mathbf{x}_T\\right) \\prod_{t=1}^T p_\\theta\\left(\\mathbf{x}_{t-1} \\mid \\mathbf{x}_t\\right), \\quad p_\\theta\\left(\\mathbf{x}_{t-1} \\mid \\mathbf{x}_t\\right):=\\mathcal{N}\\left(\\mathbf{x}_{t-1} ; \\boldsymbol{\\mu}_\\theta\\left(\\mathbf{x}_t, t\\right), \\boldsymbol{\\Sigma}_\\theta\\left(\\mathbf{x}_t, t\\right)\\right)\n",
    "$$"
   ]
  },
  {
   "attachments": {},
   "cell_type": "markdown",
   "metadata": {},
   "source": []
  }
 ],
 "metadata": {
  "kernelspec": {
   "display_name": "base",
   "language": "python",
   "name": "python3"
  },
  "language_info": {
   "codemirror_mode": {
    "name": "ipython",
    "version": 3
   },
   "file_extension": ".py",
   "mimetype": "text/x-python",
   "name": "python",
   "nbconvert_exporter": "python",
   "pygments_lexer": "ipython3",
   "version": "3.8.16"
  },
  "orig_nbformat": 4
 },
 "nbformat": 4,
 "nbformat_minor": 2
}
